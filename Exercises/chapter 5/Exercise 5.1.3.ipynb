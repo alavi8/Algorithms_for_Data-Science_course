{
 "cells": [
  {
   "cell_type": "markdown",
   "metadata": {},
   "source": [
    "# Exercise 5.1.3 :<br>\n",
    "## Suppose the Web consists of a clique (set of nodes with all possible arcs from one to another) of n nodes and a single additional node that is the successor of each of the n nodes in the clique. Figure 5.8 shows this graph for the case n = 4. Determine the PageRank of each page, as a function of n and β.\n",
    "\n",
    "\n",
    "\n",
    "### solution :\n",
    "\n",
    "\n",
    "for graph we have:\n",
    "\n",
    "v0 : \n",
    "$\\begin{bmatrix}\n",
    "1/5\\\\\n",
    "1/5\\\\\n",
    "1/5\\\\\n",
    "1/5\\\\\n",
    "1/5\\\\\n",
    "\\end{bmatrix}$ \n",
    "and  M:\n",
    "$\\begin{bmatrix}\n",
    "0&1/4&1/4&1/4&0\\\\\n",
    "1/4&0&1/4&1/4&1/4\\\\\n",
    "1/4&1/4&0&1/4&0\\\\\n",
    "1/4&1/4&1/4&0&0\\\\\n",
    "1/4&1/4&1/4&1/4&0\\\\\n",
    "\\end{bmatrix}$\n",
    "<br>\n",
    "\n",
    "\n",
    "Thus, the equationfor the iteration becomes :\n",
    "\n",
    "$\\begin{equation*}\n",
    "\\ v'\n",
    "\\end{equation*}$ =βMv+(1-β)e/n\n",
    "\n",
    "\n",
    "$\\begin{equation*}\n",
    "\\ v'\n",
    "\\end{equation*}$ =β\n",
    "$\\begin{bmatrix}\n",
    "0&1/4&1/4&1/4&0\\\\\n",
    "1/4&0&1/4&1/4&1/4\\\\\n",
    "1/4&1/4&0&1/4&0\\\\\n",
    "1/4&1/4&1/4&0&0\\\\\n",
    "1/4&1/4&1/4&1/4&0\\\\\n",
    "\\end{bmatrix}$\n",
    " v + (1-β)  $\\begin{bmatrix}\n",
    "1\\\\\n",
    "1\\\\\n",
    "1\\\\\n",
    "\\end{bmatrix}$ "
   ]
  },
  {
   "cell_type": "code",
   "execution_count": null,
   "metadata": {},
   "outputs": [],
   "source": []
  }
 ],
 "metadata": {
  "kernelspec": {
   "display_name": "Python 3",
   "language": "python",
   "name": "python3"
  },
  "language_info": {
   "codemirror_mode": {
    "name": "ipython",
    "version": 3
   },
   "file_extension": ".py",
   "mimetype": "text/x-python",
   "name": "python",
   "nbconvert_exporter": "python",
   "pygments_lexer": "ipython3",
   "version": "3.7.0"
  }
 },
 "nbformat": 4,
 "nbformat_minor": 2
}

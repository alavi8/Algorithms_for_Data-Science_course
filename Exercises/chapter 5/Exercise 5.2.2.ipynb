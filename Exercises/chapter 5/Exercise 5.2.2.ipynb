{
 "cells": [
  {
   "cell_type": "markdown",
   "metadata": {},
   "source": [
    "# Exercise 5.2.2 : \n",
    "## Using the method of Section 5.2.1, represent the transition matrices of the following graphs:\n",
    "## (a) Figure 5.4.\n",
    "## (b) Figure 5.7.\n",
    "\n",
    "\n",
    "solution :\n",
    "\n",
    "a)\n",
    "\n",
    "for graph we have :\n",
    "\n",
    "M=$\\begin{bmatrix}\n",
    "0&1/2&0&0&0\\\\\n",
    "1/2&0&0&1/2&0\\\\\n",
    "1/2&0&0&1/2&0\\\\\n",
    "0&1/2&0&0&0\\\\\n",
    "0&0&1&0&0\\\\\n",
    "\\end{bmatrix}$\n",
    "\n",
    "\n",
    "|Source|Degree|Destinations|\n",
    "|--------|--------|--------------|\n",
    "|A|2|B,C|\n",
    "|B|2|A,D|\n",
    "|C|1|E|\n",
    "|D|2|B,C|\n",
    "\n",
    "\n",
    "b)\n",
    "\n",
    "for graph we have:\n",
    "\n",
    "\n",
    "M=$\\begin{bmatrix}\n",
    "1/3&1/2&0\\\\\n",
    "1/3&0&0\\\\\n",
    "1/3&1/2&1/2\\\\\n",
    "\\end{bmatrix}$\n",
    "\n",
    "\n",
    "|Source|Degree|Destinations|\n",
    "|--------|--------|--------------|\n",
    "|A|3|A,B,C|\n",
    "|B|2|A,C|\n",
    "|C|2|B,C|\n",
    "\n",
    "\n",
    "\n",
    "\n",
    "\n",
    "\n",
    "\n",
    "\n"
   ]
  },
  {
   "cell_type": "code",
   "execution_count": null,
   "metadata": {},
   "outputs": [],
   "source": []
  }
 ],
 "metadata": {
  "kernelspec": {
   "display_name": "Python 3",
   "language": "python",
   "name": "python3"
  },
  "language_info": {
   "codemirror_mode": {
    "name": "ipython",
    "version": 3
   },
   "file_extension": ".py",
   "mimetype": "text/x-python",
   "name": "python",
   "nbconvert_exporter": "python",
   "pygments_lexer": "ipython3",
   "version": "3.7.0"
  }
 },
 "nbformat": 4,
 "nbformat_minor": 2
}

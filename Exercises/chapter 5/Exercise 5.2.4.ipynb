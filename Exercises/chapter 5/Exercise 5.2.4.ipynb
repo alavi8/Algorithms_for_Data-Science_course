{
 "cells": [
  {
   "cell_type": "markdown",
   "metadata": {},
   "source": [
    "# Exercise 5.2.4 :\n",
    "## Consider a Web graph that is a chain, like Fig. 5.9, with n nodes. As a function of k, which you may assume divides n, describe the representation of the transition matrix for this graph, using the method of Section 5.2.4.\n",
    "\n",
    "\n",
    "\n",
    "### solution :\n",
    "\n",
    "\n",
    "according to graph and method we have :\n",
    "\n",
    "\n",
    "\n",
    " $\\begin{equation*}\n",
    "\\ {M}_{11}\n",
    "\\end{equation*}$:\n",
    "\n",
    "|Source|Degree|Destinations|\n",
    "|--------|--------|--------------|\n",
    "|A|2|A|\n",
    "\n",
    "\n",
    "$\\begin{equation*}\n",
    "\\ {M}_{21}\n",
    "\\end{equation*}$:\n",
    "\n",
    "|Source|Degree|Destinations|\n",
    "|--------|--------|--------------|\n",
    "|A|2|B|\n",
    "\n",
    "\n",
    "$\\begin{equation*}\n",
    "\\ {M}_{32}\n",
    "\\end{equation*}$:\n",
    "\n",
    "|Source|Degree|Destinations|\n",
    "|--------|--------|--------------|\n",
    "|B|1|C|\n",
    "\n",
    "\n",
    "$\\begin{equation*}\n",
    "\\ {M}_{43}\n",
    "\\end{equation*}$:\n",
    "\n",
    "|Source|Degree|Destinations|\n",
    "|--------|--------|--------------|\n",
    "|C|1|D|\n",
    "\n",
    "* \n",
    "* \n",
    "* \n",
    "\n",
    "<br>\n",
    "\n",
    "$\\begin{equation*}\n",
    "\\ {M}_{n(n-1)}\n",
    "\\end{equation*}$:\n",
    "\n",
    "|Source|Degree|Destinations|\n",
    "|--------|--------|--------------|\n",
    "|Y|1|Z|\n"
   ]
  },
  {
   "cell_type": "code",
   "execution_count": null,
   "metadata": {},
   "outputs": [],
   "source": []
  }
 ],
 "metadata": {
  "kernelspec": {
   "display_name": "Python 3",
   "language": "python",
   "name": "python3"
  },
  "language_info": {
   "codemirror_mode": {
    "name": "ipython",
    "version": 3
   },
   "file_extension": ".py",
   "mimetype": "text/x-python",
   "name": "python",
   "nbconvert_exporter": "python",
   "pygments_lexer": "ipython3",
   "version": "3.7.0"
  }
 },
 "nbformat": 4,
 "nbformat_minor": 2
}

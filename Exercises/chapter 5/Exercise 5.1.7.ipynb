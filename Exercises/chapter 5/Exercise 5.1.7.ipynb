{
 "cells": [
  {
   "cell_type": "markdown",
   "metadata": {},
   "source": [
    "# Exercise 5.1.7 :\n",
    "## Repeat Exercise 5.1.6 for the tree of dead ends suggested by Fig. 5.10. That is, there is a single node with a self-loop, which is also the root of a complete binary tree of n levels.<br>\n",
    "\n",
    "\n",
    "\n",
    "\n",
    "\n",
    "### solution :<br> \n",
    "We call the vertices from the left, respectively :<br>\n",
    "step 1 :(1)<br>\n",
    "step 2:(Respectively from above) (2),(3)<br>\n",
    "step 3 : (Respectively from above) (21),(22),(31),(32)<br>\n",
    ",.......\n",
    "\n",
    "Remove all of the dead ends recursively .<br>\n",
    " \n",
    "thus we get :\n",
    "\n",
    "\n",
    "$\\begin{equation*}\n",
    "\\ {v}_0\n",
    "\\end{equation*}$ =[1] , M=[1] \n",
    "\n",
    "\n",
    "PageRank of (1) = 1;<br>\n",
    "PageRank of (2) = PageRank of (3) = 1/3×1 ;<br>\n",
    "PageRank of (21) = PageRank of (22) = PageRank of (31) = PageRank of (32) = 1/3×1/2×1 ;<br>\n",
    "and ......\n",
    "\n",
    "\n",
    "\n",
    "\n",
    "\n",
    "\n",
    "\n",
    "\n",
    "\n",
    "\n",
    "\n",
    "\n",
    "\n",
    "\n",
    "\n",
    "\n",
    "\n",
    "\n",
    "\n",
    "\n"
   ]
  },
  {
   "cell_type": "code",
   "execution_count": null,
   "metadata": {},
   "outputs": [],
   "source": []
  }
 ],
 "metadata": {
  "kernelspec": {
   "display_name": "Python 3",
   "language": "python",
   "name": "python3"
  },
  "language_info": {
   "codemirror_mode": {
    "name": "ipython",
    "version": 3
   },
   "file_extension": ".py",
   "mimetype": "text/x-python",
   "name": "python",
   "nbconvert_exporter": "python",
   "pygments_lexer": "ipython3",
   "version": "3.7.0"
  }
 },
 "nbformat": 4,
 "nbformat_minor": 2
}

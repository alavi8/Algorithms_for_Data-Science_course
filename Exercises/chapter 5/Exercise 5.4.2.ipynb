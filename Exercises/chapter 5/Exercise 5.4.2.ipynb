{
 "cells": [
  {
   "cell_type": "markdown",
   "metadata": {},
   "source": [
    "# Exercise 5.4.2 :\n",
    "## For the original Web graph of Fig. 5.1, assuming only B is a trusted page:\n",
    "## (a) Compute the TrustRank of each page.\n",
    "## (b) Compute the spam mass of each page.\n",
    "\n",
    "\n",
    "### solution :\n",
    "\n",
    "\n",
    "a)\n",
    "\n",
    "| Node   | PageRank | TrustRank |\n",
    "|--------|--------  |--------------|\n",
    "|A       |3/9           |0.27|\n",
    "|B       |2/9           |0.36|\n",
    "|C       |2/9           |0.16|\n",
    "|D       |2/9           |0.21|\n",
    "\n",
    "\n",
    "b)\n",
    "\n",
    "\n",
    "| Node   | PageRank | SpamMass |\n",
    "|--------|----------|--------------|\n",
    "|A       |3/9           |0.19|\n",
    "|B       |2/9           |-0.61|\n",
    "|C       |2/9           |0.29|\n",
    "|D       |2/9           |0.03|\n",
    "\n",
    "\n",
    "\n",
    "\n",
    "\n"
   ]
  },
  {
   "cell_type": "code",
   "execution_count": null,
   "metadata": {},
   "outputs": [],
   "source": []
  }
 ],
 "metadata": {
  "kernelspec": {
   "display_name": "Python 3",
   "language": "python",
   "name": "python3"
  },
  "language_info": {
   "codemirror_mode": {
    "name": "ipython",
    "version": 3
   },
   "file_extension": ".py",
   "mimetype": "text/x-python",
   "name": "python",
   "nbconvert_exporter": "python",
   "pygments_lexer": "ipython3",
   "version": "3.7.0"
  }
 },
 "nbformat": 4,
 "nbformat_minor": 2
}

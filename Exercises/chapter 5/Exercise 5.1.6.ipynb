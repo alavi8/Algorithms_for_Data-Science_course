{
 "cells": [
  {
   "cell_type": "markdown",
   "metadata": {},
   "source": [
    "# Exercise 5.1.6 :<br>\n",
    "## Suppose we recursively eliminate dead ends from the graph, solve the remaining graph, and estimate the PageRank for the dead-end pages as described in Section 5.1.4. Suppose the graph is a chain of dead ends, headed by a node with a self-loop, as suggested in Fig. 5.9. What would be the PageRank assigned to each of the nodes?\n",
    "\n",
    "\n",
    "\n",
    "### solution :\n",
    "\n",
    "We call the vertices from the left, respectively (1),(2),(3),........,(n)\n",
    "\n",
    "Remove all of the dead ends recursively:\n",
    " \n",
    "(1),(2),(3),........,(n-1)<br>\n",
    " ....\n",
    " \n",
    "(1),(2),(3),(4)<br>\n",
    "(1),(2),(3)<br>\n",
    "(1),(2)<br>\n",
    "(1)<br>\n",
    "\n",
    "thus we get :\n",
    "\n",
    "\n",
    "$\\begin{equation*}\n",
    "\\ {v}_0\n",
    "\\end{equation*}$ =[1] , M=[1] \n",
    "\n",
    "PageRank of (1) = 1;<br>\n",
    "PageRank of (2) = (1/2)×1;<br>\n",
    "PageRank of (3) = PageRank of (2) = 1/2;<br>\n",
    "PageRank of (4) = PageRank of (3) = 1/2;<br>\n",
    ",......\n",
    "\n",
    "PageRank of (n) = PageRank of (n-1) = 1/2;<br>\n",
    "\n",
    "\n",
    "\n",
    "\n"
   ]
  },
  {
   "cell_type": "code",
   "execution_count": null,
   "metadata": {},
   "outputs": [],
   "source": []
  }
 ],
 "metadata": {
  "kernelspec": {
   "display_name": "Python 3",
   "language": "python",
   "name": "python3"
  },
  "language_info": {
   "codemirror_mode": {
    "name": "ipython",
    "version": 3
   },
   "file_extension": ".py",
   "mimetype": "text/x-python",
   "name": "python",
   "nbconvert_exporter": "python",
   "pygments_lexer": "ipython3",
   "version": "3.7.0"
  }
 },
 "nbformat": 4,
 "nbformat_minor": 2
}
